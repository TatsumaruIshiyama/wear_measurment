{
 "cells": [
  {
   "cell_type": "markdown",
   "metadata": {},
   "source": [
    "# 底刃摩耗幅測定ツール\n",
    "#### dataフォルダに画像ファイル（jpgのみ）を入れてください"
   ]
  },
  {
   "cell_type": "code",
   "execution_count": 6,
   "metadata": {},
   "outputs": [
    {
     "name": "stderr",
     "output_type": "stream",
     "text": [
      "\u001b[34m\u001b[1mdetect: \u001b[0mweights=['end_cutting_edge.pt'], source=data, data=data\\coco128.yaml, imgsz=[640, 640], conf_thres=0.5, iou_thres=0.45, max_det=1000, device=, view_img=False, save_txt=False, save_csv=False, save_conf=False, save_crop=False, nosave=False, classes=None, agnostic_nms=False, augment=False, visualize=False, update=False, project=runs\\detect, name=exp, exist_ok=False, line_thickness=3, hide_labels=False, hide_conf=False, half=False, dnn=False, vid_stride=1\n",
      "YOLOv5  2024-4-9 Python-3.12.2 torch-2.2.2+cpu CPU\n",
      "\n",
      "Fusing layers... \n",
      "Model summary: 157 layers, 7012822 parameters, 0 gradients, 15.8 GFLOPs\n",
      "image 1/8 C:\\Users\\tatsu\\\\laboratory\\wear_measurment\\data\\0_1.jpg: 480x640 (no detections), 101.1ms\n",
      "image 2/8 C:\\Users\\tatsu\\\\laboratory\\wear_measurment\\data\\1120_1.jpg: 480x640 1 end_cutting_edge_wear, 110.7ms\n",
      "image 3/8 C:\\Users\\tatsu\\\\laboratory\\wear_measurment\\data\\1680_1.jpg: 480x640 1 end_cutting_edge_wear, 91.8ms\n",
      "image 4/8 C:\\Users\\tatsu\\\\laboratory\\wear_measurment\\data\\2240_1.jpg: 480x640 1 end_cutting_edge_wear, 90.7ms\n",
      "image 5/8 C:\\Users\\tatsu\\\\laboratory\\wear_measurment\\data\\2800_1.jpg: 480x640 1 end_cutting_edge_wear, 89.0ms\n",
      "image 6/8 C:\\Users\\tatsu\\\\laboratory\\wear_measurment\\data\\3360_1.jpg: 480x640 1 end_cutting_edge_wear, 86.2ms\n",
      "image 7/8 C:\\Users\\tatsu\\\\laboratory\\wear_measurment\\data\\3920_1.jpg: 480x640 1 end_cutting_edge_wear, 88.7ms\n",
      "image 8/8 C:\\Users\\tatsu\\\\laboratory\\wear_measurment\\data\\560_1.jpg: 480x640 1 end_cutting_edge_wear, 92.6ms\n",
      "Speed: 0.4ms pre-process, 93.9ms inference, 0.8ms NMS per image at shape (1, 3, 640, 640)\n",
      "Results saved to \u001b[1mruns\\detect\\exp\u001b[0m\n"
     ]
    }
   ],
   "source": [
    "# このセルを実行して正しく検出できているかチェックしてください\n",
    "# conf の値は閾値です\n",
    "!python detect.py --source data --conf 0.5 --weights end_cutting_edge.pt\n",
    "# runs/detect/exp~ に検出した画像が保存されます（この画像は不要になったら消して大丈夫です）"
   ]
  },
  {
   "cell_type": "code",
   "execution_count": 1,
   "metadata": {},
   "outputs": [],
   "source": [
    "import torch\n",
    "import cv2\n",
    "from PIL import Image\n",
    "import matplotlib.pyplot as plt\n",
    "import glob\n",
    "model = torch.hub.load('.', 'custom', path = 'end_cutting_edge.pt', source = 'local')"
   ]
  },
  {
   "cell_type": "code",
   "execution_count": 7,
   "metadata": {},
   "outputs": [
    {
     "name": "stdout",
     "output_type": "stream",
     "text": [
      "[0, 0.05917100345387178, 0.08501092125387752, 0.1171347562004538, 0.18084906409768495, 0.25076021306654983, 0.2909432803883272, 0.030566159416647514]\n"
     ]
    }
   ],
   "source": [
    "scale_mm = 1                            # mm\n",
    "scale_L = 272                           # mm\n",
    "width_L = 480                           # mm\n",
    "\n",
    "wear = []\n",
    "filepath = sorted(glob.glob('data/*.jpg'))\n",
    "for path in filepath:\n",
    "    img = cv2.imread(path)\n",
    "    img = cv2.cvtColor(img, cv2.COLOR_BGR2RGB)\n",
    "    width_pix = img.shape[1]\n",
    "    dpL = width_pix / width_L           # dot per image_length\n",
    "    sacale_pix = dpL * scale_L          # dot per scale_length\n",
    "    dpmm = sacale_pix / scale_mm        # dot per mm\n",
    "    # cv2.imshow('frame', img)\n",
    "    # cv2.waitKey(0)\n",
    "    model.conf = 0.5\n",
    "    # plt.figure()\n",
    "    # plt.imshow(img)\n",
    "    # plt.show()\n",
    "    result = model(img)\n",
    "    result = result.pandas().xywh[0]\n",
    "    if len(result) == 0:\n",
    "        wear_i = 0\n",
    "    else:\n",
    "        wear_i = result.loc[0, 'height']\n",
    "        wear_i = wear_i / dpmm\n",
    "    wear.append(wear_i)\n",
    "print(wear)"
   ]
  },
  {
   "cell_type": "code",
   "execution_count": null,
   "metadata": {},
   "outputs": [],
   "source": []
  }
 ],
 "metadata": {
  "kernelspec": {
   "display_name": "Python 3",
   "language": "python",
   "name": "python3"
  },
  "language_info": {
   "codemirror_mode": {
    "name": "ipython",
    "version": 3
   },
   "file_extension": ".py",
   "mimetype": "text/x-python",
   "name": "python",
   "nbconvert_exporter": "python",
   "pygments_lexer": "ipython3",
   "version": "3.12.2"
  }
 },
 "nbformat": 4,
 "nbformat_minor": 2
}
